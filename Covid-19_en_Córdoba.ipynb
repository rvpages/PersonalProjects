{
 "cells": [
  {
   "cell_type": "markdown",
   "metadata": {},
   "source": [
    "* Un proyecto personal de Covid-19 en la provincia de Córdoba, Argentina.\n",
    "* Los datos fueron descargados de la pagina: https://datos.gob.ar/"
   ]
  },
  {
   "cell_type": "markdown",
   "metadata": {},
   "source": [
    "### Leemos los datos y nos quedamos solamente con los datos de Córdoba"
   ]
  },
  {
   "cell_type": "code",
   "execution_count": 1,
   "metadata": {},
   "outputs": [],
   "source": [
    "import pandas as pd\n",
    "import numpy as np\n",
    "import matplotlib.pyplot as plt\n",
    "import seaborn as sns\n",
    "from datetime import datetime"
   ]
  },
  {
   "cell_type": "code",
   "execution_count": 2,
   "metadata": {},
   "outputs": [],
   "source": [
    "df = pd.read_csv('Covid19Casos.csv')"
   ]
  },
  {
   "cell_type": "code",
   "execution_count": 3,
   "metadata": {},
   "outputs": [
    {
     "data": {
      "text/html": [
       "<div>\n",
       "<style scoped>\n",
       "    .dataframe tbody tr th:only-of-type {\n",
       "        vertical-align: middle;\n",
       "    }\n",
       "\n",
       "    .dataframe tbody tr th {\n",
       "        vertical-align: top;\n",
       "    }\n",
       "\n",
       "    .dataframe thead th {\n",
       "        text-align: right;\n",
       "    }\n",
       "</style>\n",
       "<table border=\"1\" class=\"dataframe\">\n",
       "  <thead>\n",
       "    <tr style=\"text-align: right;\">\n",
       "      <th></th>\n",
       "      <th>id_evento_caso</th>\n",
       "      <th>sexo</th>\n",
       "      <th>edad</th>\n",
       "      <th>edad_años_meses</th>\n",
       "      <th>residencia_pais_nombre</th>\n",
       "      <th>residencia_provincia_nombre</th>\n",
       "      <th>residencia_departamento_nombre</th>\n",
       "      <th>carga_provincia_nombre</th>\n",
       "      <th>fecha_inicio_sintomas</th>\n",
       "      <th>fecha_apertura</th>\n",
       "      <th>...</th>\n",
       "      <th>fecha_fallecimiento</th>\n",
       "      <th>asistencia_respiratoria_mecanica</th>\n",
       "      <th>carga_provincia_id</th>\n",
       "      <th>origen_financiamiento</th>\n",
       "      <th>clasificacion</th>\n",
       "      <th>clasificacion_resumen</th>\n",
       "      <th>residencia_provincia_id</th>\n",
       "      <th>fecha_diagnostico</th>\n",
       "      <th>residencia_departamento_id</th>\n",
       "      <th>ultima_actualizacion</th>\n",
       "    </tr>\n",
       "  </thead>\n",
       "  <tbody>\n",
       "    <tr>\n",
       "      <th>0</th>\n",
       "      <td>1000000</td>\n",
       "      <td>M</td>\n",
       "      <td>54.0</td>\n",
       "      <td>Años</td>\n",
       "      <td>Argentina</td>\n",
       "      <td>CABA</td>\n",
       "      <td>SIN ESPECIFICAR</td>\n",
       "      <td>Buenos Aires</td>\n",
       "      <td>NaN</td>\n",
       "      <td>2020-06-01</td>\n",
       "      <td>...</td>\n",
       "      <td>NaN</td>\n",
       "      <td>NO</td>\n",
       "      <td>6</td>\n",
       "      <td>Privado</td>\n",
       "      <td>Caso Descartado</td>\n",
       "      <td>Descartado</td>\n",
       "      <td>2</td>\n",
       "      <td>2020-06-09</td>\n",
       "      <td>0</td>\n",
       "      <td>2021-02-15</td>\n",
       "    </tr>\n",
       "    <tr>\n",
       "      <th>1</th>\n",
       "      <td>1000002</td>\n",
       "      <td>M</td>\n",
       "      <td>22.0</td>\n",
       "      <td>Años</td>\n",
       "      <td>Argentina</td>\n",
       "      <td>Buenos Aires</td>\n",
       "      <td>La Matanza</td>\n",
       "      <td>Buenos Aires</td>\n",
       "      <td>NaN</td>\n",
       "      <td>2020-06-01</td>\n",
       "      <td>...</td>\n",
       "      <td>NaN</td>\n",
       "      <td>NO</td>\n",
       "      <td>6</td>\n",
       "      <td>Público</td>\n",
       "      <td>Caso Descartado</td>\n",
       "      <td>Descartado</td>\n",
       "      <td>6</td>\n",
       "      <td>2020-06-01</td>\n",
       "      <td>427</td>\n",
       "      <td>2021-02-15</td>\n",
       "    </tr>\n",
       "    <tr>\n",
       "      <th>2</th>\n",
       "      <td>1000003</td>\n",
       "      <td>F</td>\n",
       "      <td>41.0</td>\n",
       "      <td>Años</td>\n",
       "      <td>Argentina</td>\n",
       "      <td>Córdoba</td>\n",
       "      <td>Capital</td>\n",
       "      <td>Córdoba</td>\n",
       "      <td>2020-05-24</td>\n",
       "      <td>2020-06-01</td>\n",
       "      <td>...</td>\n",
       "      <td>NaN</td>\n",
       "      <td>NO</td>\n",
       "      <td>14</td>\n",
       "      <td>Privado</td>\n",
       "      <td>Caso Descartado</td>\n",
       "      <td>Descartado</td>\n",
       "      <td>14</td>\n",
       "      <td>2020-06-01</td>\n",
       "      <td>14</td>\n",
       "      <td>2021-02-15</td>\n",
       "    </tr>\n",
       "    <tr>\n",
       "      <th>3</th>\n",
       "      <td>1000005</td>\n",
       "      <td>F</td>\n",
       "      <td>58.0</td>\n",
       "      <td>Años</td>\n",
       "      <td>Argentina</td>\n",
       "      <td>Mendoza</td>\n",
       "      <td>Las Heras</td>\n",
       "      <td>Mendoza</td>\n",
       "      <td>NaN</td>\n",
       "      <td>2020-06-01</td>\n",
       "      <td>...</td>\n",
       "      <td>NaN</td>\n",
       "      <td>NO</td>\n",
       "      <td>50</td>\n",
       "      <td>Público</td>\n",
       "      <td>Caso Descartado</td>\n",
       "      <td>Descartado</td>\n",
       "      <td>50</td>\n",
       "      <td>2020-06-01</td>\n",
       "      <td>49</td>\n",
       "      <td>2021-02-15</td>\n",
       "    </tr>\n",
       "    <tr>\n",
       "      <th>4</th>\n",
       "      <td>1000006</td>\n",
       "      <td>M</td>\n",
       "      <td>29.0</td>\n",
       "      <td>Años</td>\n",
       "      <td>Argentina</td>\n",
       "      <td>Buenos Aires</td>\n",
       "      <td>Malvinas Argentinas</td>\n",
       "      <td>Buenos Aires</td>\n",
       "      <td>2020-05-30</td>\n",
       "      <td>2020-06-01</td>\n",
       "      <td>...</td>\n",
       "      <td>NaN</td>\n",
       "      <td>NO</td>\n",
       "      <td>6</td>\n",
       "      <td>Público</td>\n",
       "      <td>Caso sospechoso - No Activo - Con muestra sin ...</td>\n",
       "      <td>Sospechoso</td>\n",
       "      <td>6</td>\n",
       "      <td>NaN</td>\n",
       "      <td>515</td>\n",
       "      <td>2021-02-15</td>\n",
       "    </tr>\n",
       "  </tbody>\n",
       "</table>\n",
       "<p>5 rows × 25 columns</p>\n",
       "</div>"
      ],
      "text/plain": [
       "   id_evento_caso sexo  edad edad_años_meses residencia_pais_nombre  \\\n",
       "0         1000000    M  54.0            Años              Argentina   \n",
       "1         1000002    M  22.0            Años              Argentina   \n",
       "2         1000003    F  41.0            Años              Argentina   \n",
       "3         1000005    F  58.0            Años              Argentina   \n",
       "4         1000006    M  29.0            Años              Argentina   \n",
       "\n",
       "  residencia_provincia_nombre residencia_departamento_nombre  \\\n",
       "0                        CABA                SIN ESPECIFICAR   \n",
       "1                Buenos Aires                     La Matanza   \n",
       "2                     Córdoba                        Capital   \n",
       "3                     Mendoza                      Las Heras   \n",
       "4                Buenos Aires            Malvinas Argentinas   \n",
       "\n",
       "  carga_provincia_nombre fecha_inicio_sintomas fecha_apertura  ...  \\\n",
       "0           Buenos Aires                   NaN     2020-06-01  ...   \n",
       "1           Buenos Aires                   NaN     2020-06-01  ...   \n",
       "2                Córdoba            2020-05-24     2020-06-01  ...   \n",
       "3                Mendoza                   NaN     2020-06-01  ...   \n",
       "4           Buenos Aires            2020-05-30     2020-06-01  ...   \n",
       "\n",
       "   fecha_fallecimiento asistencia_respiratoria_mecanica carga_provincia_id  \\\n",
       "0                  NaN                               NO                  6   \n",
       "1                  NaN                               NO                  6   \n",
       "2                  NaN                               NO                 14   \n",
       "3                  NaN                               NO                 50   \n",
       "4                  NaN                               NO                  6   \n",
       "\n",
       "  origen_financiamiento                                      clasificacion  \\\n",
       "0               Privado                                    Caso Descartado   \n",
       "1               Público                                    Caso Descartado   \n",
       "2               Privado                                    Caso Descartado   \n",
       "3               Público                                    Caso Descartado   \n",
       "4               Público  Caso sospechoso - No Activo - Con muestra sin ...   \n",
       "\n",
       "  clasificacion_resumen residencia_provincia_id  fecha_diagnostico  \\\n",
       "0            Descartado                       2         2020-06-09   \n",
       "1            Descartado                       6         2020-06-01   \n",
       "2            Descartado                      14         2020-06-01   \n",
       "3            Descartado                      50         2020-06-01   \n",
       "4            Sospechoso                       6                NaN   \n",
       "\n",
       "  residencia_departamento_id ultima_actualizacion  \n",
       "0                          0           2021-02-15  \n",
       "1                        427           2021-02-15  \n",
       "2                         14           2021-02-15  \n",
       "3                         49           2021-02-15  \n",
       "4                        515           2021-02-15  \n",
       "\n",
       "[5 rows x 25 columns]"
      ]
     },
     "execution_count": 3,
     "metadata": {},
     "output_type": "execute_result"
    }
   ],
   "source": [
    "df.head()"
   ]
  },
  {
   "cell_type": "code",
   "execution_count": 39,
   "metadata": {},
   "outputs": [
    {
     "data": {
      "text/plain": [
       "sexo                                     0\n",
       "edad                                    56\n",
       "edad_años_meses                          0\n",
       "residencia_provincia_nombre              0\n",
       "residencia_departamento_nombre           0\n",
       "fecha_inicio_sintomas               563113\n",
       "sepi_apertura                            0\n",
       "fecha_internacion                   696975\n",
       "cuidado_intensivo                        0\n",
       "fecha_cui_intensivo                 702968\n",
       "fallecido                                0\n",
       "fecha_fallecimiento                 703106\n",
       "asistencia_respiratoria_mecanica         0\n",
       "origen_financiamiento                    0\n",
       "clasificacion                            0\n",
       "clasificacion_resumen                    0\n",
       "fecha_diagnostico                    40095\n",
       "dtype: int64"
      ]
     },
     "execution_count": 39,
     "metadata": {},
     "output_type": "execute_result"
    }
   ],
   "source": [
    "df.isnull().sum()"
   ]
  },
  {
   "cell_type": "code",
   "execution_count": 4,
   "metadata": {},
   "outputs": [
    {
     "name": "stdout",
     "output_type": "stream",
     "text": [
      "<class 'pandas.core.frame.DataFrame'>\n",
      "RangeIndex: 6345193 entries, 0 to 6345192\n",
      "Data columns (total 25 columns):\n",
      " #   Column                            Dtype  \n",
      "---  ------                            -----  \n",
      " 0   id_evento_caso                    int64  \n",
      " 1   sexo                              object \n",
      " 2   edad                              float64\n",
      " 3   edad_años_meses                   object \n",
      " 4   residencia_pais_nombre            object \n",
      " 5   residencia_provincia_nombre       object \n",
      " 6   residencia_departamento_nombre    object \n",
      " 7   carga_provincia_nombre            object \n",
      " 8   fecha_inicio_sintomas             object \n",
      " 9   fecha_apertura                    object \n",
      " 10  sepi_apertura                     int64  \n",
      " 11  fecha_internacion                 object \n",
      " 12  cuidado_intensivo                 object \n",
      " 13  fecha_cui_intensivo               object \n",
      " 14  fallecido                         object \n",
      " 15  fecha_fallecimiento               object \n",
      " 16  asistencia_respiratoria_mecanica  object \n",
      " 17  carga_provincia_id                int64  \n",
      " 18  origen_financiamiento             object \n",
      " 19  clasificacion                     object \n",
      " 20  clasificacion_resumen             object \n",
      " 21  residencia_provincia_id           int64  \n",
      " 22  fecha_diagnostico                 object \n",
      " 23  residencia_departamento_id        int64  \n",
      " 24  ultima_actualizacion              object \n",
      "dtypes: float64(1), int64(5), object(19)\n",
      "memory usage: 1.2+ GB\n"
     ]
    }
   ],
   "source": [
    "df.info()"
   ]
  },
  {
   "cell_type": "code",
   "execution_count": 5,
   "metadata": {},
   "outputs": [
    {
     "data": {
      "text/html": [
       "<div>\n",
       "<style scoped>\n",
       "    .dataframe tbody tr th:only-of-type {\n",
       "        vertical-align: middle;\n",
       "    }\n",
       "\n",
       "    .dataframe tbody tr th {\n",
       "        vertical-align: top;\n",
       "    }\n",
       "\n",
       "    .dataframe thead th {\n",
       "        text-align: right;\n",
       "    }\n",
       "</style>\n",
       "<table border=\"1\" class=\"dataframe\">\n",
       "  <thead>\n",
       "    <tr style=\"text-align: right;\">\n",
       "      <th></th>\n",
       "      <th>id_evento_caso</th>\n",
       "      <th>edad</th>\n",
       "      <th>sepi_apertura</th>\n",
       "      <th>carga_provincia_id</th>\n",
       "      <th>residencia_provincia_id</th>\n",
       "      <th>residencia_departamento_id</th>\n",
       "    </tr>\n",
       "  </thead>\n",
       "  <tbody>\n",
       "    <tr>\n",
       "      <th>count</th>\n",
       "      <td>6.345193e+06</td>\n",
       "      <td>6.341490e+06</td>\n",
       "      <td>6.345193e+06</td>\n",
       "      <td>6.345193e+06</td>\n",
       "      <td>6.345193e+06</td>\n",
       "      <td>6.345193e+06</td>\n",
       "    </tr>\n",
       "    <tr>\n",
       "      <th>mean</th>\n",
       "      <td>4.316059e+06</td>\n",
       "      <td>3.944718e+01</td>\n",
       "      <td>3.037850e+01</td>\n",
       "      <td>2.393787e+01</td>\n",
       "      <td>2.504654e+01</td>\n",
       "      <td>1.950822e+02</td>\n",
       "    </tr>\n",
       "    <tr>\n",
       "      <th>std</th>\n",
       "      <td>1.976355e+06</td>\n",
       "      <td>1.848592e+01</td>\n",
       "      <td>1.814925e+01</td>\n",
       "      <td>2.984928e+01</td>\n",
       "      <td>2.998729e+01</td>\n",
       "      <td>2.491082e+02</td>\n",
       "    </tr>\n",
       "    <tr>\n",
       "      <th>min</th>\n",
       "      <td>6.720640e+05</td>\n",
       "      <td>0.000000e+00</td>\n",
       "      <td>1.000000e+00</td>\n",
       "      <td>2.000000e+00</td>\n",
       "      <td>2.000000e+00</td>\n",
       "      <td>0.000000e+00</td>\n",
       "    </tr>\n",
       "    <tr>\n",
       "      <th>25%</th>\n",
       "      <td>2.624540e+06</td>\n",
       "      <td>2.700000e+01</td>\n",
       "      <td>6.000000e+00</td>\n",
       "      <td>2.000000e+00</td>\n",
       "      <td>6.000000e+00</td>\n",
       "      <td>1.400000e+01</td>\n",
       "    </tr>\n",
       "    <tr>\n",
       "      <th>50%</th>\n",
       "      <td>4.320892e+06</td>\n",
       "      <td>3.700000e+01</td>\n",
       "      <td>3.700000e+01</td>\n",
       "      <td>6.000000e+00</td>\n",
       "      <td>6.000000e+00</td>\n",
       "      <td>6.300000e+01</td>\n",
       "    </tr>\n",
       "    <tr>\n",
       "      <th>75%</th>\n",
       "      <td>6.027530e+06</td>\n",
       "      <td>5.100000e+01</td>\n",
       "      <td>4.500000e+01</td>\n",
       "      <td>3.800000e+01</td>\n",
       "      <td>4.200000e+01</td>\n",
       "      <td>3.710000e+02</td>\n",
       "    </tr>\n",
       "    <tr>\n",
       "      <th>max</th>\n",
       "      <td>7.714118e+06</td>\n",
       "      <td>1.944000e+03</td>\n",
       "      <td>5.300000e+01</td>\n",
       "      <td>9.400000e+01</td>\n",
       "      <td>9.900000e+01</td>\n",
       "      <td>8.820000e+02</td>\n",
       "    </tr>\n",
       "  </tbody>\n",
       "</table>\n",
       "</div>"
      ],
      "text/plain": [
       "       id_evento_caso          edad  sepi_apertura  carga_provincia_id  \\\n",
       "count    6.345193e+06  6.341490e+06   6.345193e+06        6.345193e+06   \n",
       "mean     4.316059e+06  3.944718e+01   3.037850e+01        2.393787e+01   \n",
       "std      1.976355e+06  1.848592e+01   1.814925e+01        2.984928e+01   \n",
       "min      6.720640e+05  0.000000e+00   1.000000e+00        2.000000e+00   \n",
       "25%      2.624540e+06  2.700000e+01   6.000000e+00        2.000000e+00   \n",
       "50%      4.320892e+06  3.700000e+01   3.700000e+01        6.000000e+00   \n",
       "75%      6.027530e+06  5.100000e+01   4.500000e+01        3.800000e+01   \n",
       "max      7.714118e+06  1.944000e+03   5.300000e+01        9.400000e+01   \n",
       "\n",
       "       residencia_provincia_id  residencia_departamento_id  \n",
       "count             6.345193e+06                6.345193e+06  \n",
       "mean              2.504654e+01                1.950822e+02  \n",
       "std               2.998729e+01                2.491082e+02  \n",
       "min               2.000000e+00                0.000000e+00  \n",
       "25%               6.000000e+00                1.400000e+01  \n",
       "50%               6.000000e+00                6.300000e+01  \n",
       "75%               4.200000e+01                3.710000e+02  \n",
       "max               9.900000e+01                8.820000e+02  "
      ]
     },
     "execution_count": 5,
     "metadata": {},
     "output_type": "execute_result"
    }
   ],
   "source": [
    "df.describe()"
   ]
  },
  {
   "cell_type": "code",
   "execution_count": 6,
   "metadata": {},
   "outputs": [
    {
     "data": {
      "text/plain": [
       "(6345193, 25)"
      ]
     },
     "execution_count": 6,
     "metadata": {},
     "output_type": "execute_result"
    }
   ],
   "source": [
    "df.shape"
   ]
  },
  {
   "cell_type": "markdown",
   "metadata": {},
   "source": [
    "#### Nos quedamos con Córdoba"
   ]
  },
  {
   "cell_type": "code",
   "execution_count": 8,
   "metadata": {},
   "outputs": [],
   "source": [
    "df = df.loc[df.loc[:, 'residencia_provincia_nombre'] == 'Córdoba']"
   ]
  },
  {
   "cell_type": "code",
   "execution_count": 9,
   "metadata": {},
   "outputs": [
    {
     "data": {
      "text/html": [
       "<div>\n",
       "<style scoped>\n",
       "    .dataframe tbody tr th:only-of-type {\n",
       "        vertical-align: middle;\n",
       "    }\n",
       "\n",
       "    .dataframe tbody tr th {\n",
       "        vertical-align: top;\n",
       "    }\n",
       "\n",
       "    .dataframe thead th {\n",
       "        text-align: right;\n",
       "    }\n",
       "</style>\n",
       "<table border=\"1\" class=\"dataframe\">\n",
       "  <thead>\n",
       "    <tr style=\"text-align: right;\">\n",
       "      <th></th>\n",
       "      <th>id_evento_caso</th>\n",
       "      <th>sexo</th>\n",
       "      <th>edad</th>\n",
       "      <th>edad_años_meses</th>\n",
       "      <th>residencia_pais_nombre</th>\n",
       "      <th>residencia_provincia_nombre</th>\n",
       "      <th>residencia_departamento_nombre</th>\n",
       "      <th>carga_provincia_nombre</th>\n",
       "      <th>fecha_inicio_sintomas</th>\n",
       "      <th>fecha_apertura</th>\n",
       "      <th>...</th>\n",
       "      <th>fecha_fallecimiento</th>\n",
       "      <th>asistencia_respiratoria_mecanica</th>\n",
       "      <th>carga_provincia_id</th>\n",
       "      <th>origen_financiamiento</th>\n",
       "      <th>clasificacion</th>\n",
       "      <th>clasificacion_resumen</th>\n",
       "      <th>residencia_provincia_id</th>\n",
       "      <th>fecha_diagnostico</th>\n",
       "      <th>residencia_departamento_id</th>\n",
       "      <th>ultima_actualizacion</th>\n",
       "    </tr>\n",
       "  </thead>\n",
       "  <tbody>\n",
       "    <tr>\n",
       "      <th>2</th>\n",
       "      <td>1000003</td>\n",
       "      <td>F</td>\n",
       "      <td>41.0</td>\n",
       "      <td>Años</td>\n",
       "      <td>Argentina</td>\n",
       "      <td>Córdoba</td>\n",
       "      <td>Capital</td>\n",
       "      <td>Córdoba</td>\n",
       "      <td>2020-05-24</td>\n",
       "      <td>2020-06-01</td>\n",
       "      <td>...</td>\n",
       "      <td>NaN</td>\n",
       "      <td>NO</td>\n",
       "      <td>14</td>\n",
       "      <td>Privado</td>\n",
       "      <td>Caso Descartado</td>\n",
       "      <td>Descartado</td>\n",
       "      <td>14</td>\n",
       "      <td>2020-06-01</td>\n",
       "      <td>14</td>\n",
       "      <td>2021-02-15</td>\n",
       "    </tr>\n",
       "    <tr>\n",
       "      <th>31</th>\n",
       "      <td>1000040</td>\n",
       "      <td>F</td>\n",
       "      <td>52.0</td>\n",
       "      <td>Años</td>\n",
       "      <td>Argentina</td>\n",
       "      <td>Córdoba</td>\n",
       "      <td>Capital</td>\n",
       "      <td>Córdoba</td>\n",
       "      <td>2020-05-21</td>\n",
       "      <td>2020-06-01</td>\n",
       "      <td>...</td>\n",
       "      <td>NaN</td>\n",
       "      <td>NO</td>\n",
       "      <td>14</td>\n",
       "      <td>Privado</td>\n",
       "      <td>Caso Descartado</td>\n",
       "      <td>Descartado</td>\n",
       "      <td>14</td>\n",
       "      <td>2020-05-28</td>\n",
       "      <td>14</td>\n",
       "      <td>2021-02-15</td>\n",
       "    </tr>\n",
       "    <tr>\n",
       "      <th>43</th>\n",
       "      <td>1000057</td>\n",
       "      <td>NR</td>\n",
       "      <td>NaN</td>\n",
       "      <td>Años</td>\n",
       "      <td>Argentina</td>\n",
       "      <td>Córdoba</td>\n",
       "      <td>San Justo</td>\n",
       "      <td>Córdoba</td>\n",
       "      <td>NaN</td>\n",
       "      <td>2020-06-01</td>\n",
       "      <td>...</td>\n",
       "      <td>NaN</td>\n",
       "      <td>NO</td>\n",
       "      <td>14</td>\n",
       "      <td>Público</td>\n",
       "      <td>Caso Descartado</td>\n",
       "      <td>Descartado</td>\n",
       "      <td>14</td>\n",
       "      <td>2020-06-01</td>\n",
       "      <td>140</td>\n",
       "      <td>2021-02-15</td>\n",
       "    </tr>\n",
       "    <tr>\n",
       "      <th>54</th>\n",
       "      <td>1000075</td>\n",
       "      <td>F</td>\n",
       "      <td>51.0</td>\n",
       "      <td>Años</td>\n",
       "      <td>Argentina</td>\n",
       "      <td>Córdoba</td>\n",
       "      <td>Capital</td>\n",
       "      <td>Córdoba</td>\n",
       "      <td>2020-05-27</td>\n",
       "      <td>2020-06-01</td>\n",
       "      <td>...</td>\n",
       "      <td>NaN</td>\n",
       "      <td>NO</td>\n",
       "      <td>14</td>\n",
       "      <td>Privado</td>\n",
       "      <td>Caso Descartado</td>\n",
       "      <td>Descartado</td>\n",
       "      <td>14</td>\n",
       "      <td>2020-05-29</td>\n",
       "      <td>14</td>\n",
       "      <td>2021-02-15</td>\n",
       "    </tr>\n",
       "    <tr>\n",
       "      <th>165</th>\n",
       "      <td>1000240</td>\n",
       "      <td>F</td>\n",
       "      <td>1.0</td>\n",
       "      <td>Años</td>\n",
       "      <td>Argentina</td>\n",
       "      <td>Córdoba</td>\n",
       "      <td>Capital</td>\n",
       "      <td>Córdoba</td>\n",
       "      <td>2020-05-29</td>\n",
       "      <td>2020-06-01</td>\n",
       "      <td>...</td>\n",
       "      <td>NaN</td>\n",
       "      <td>NO</td>\n",
       "      <td>14</td>\n",
       "      <td>Público</td>\n",
       "      <td>Caso Descartado</td>\n",
       "      <td>Descartado</td>\n",
       "      <td>14</td>\n",
       "      <td>2020-06-01</td>\n",
       "      <td>14</td>\n",
       "      <td>2021-02-15</td>\n",
       "    </tr>\n",
       "    <tr>\n",
       "      <th>...</th>\n",
       "      <td>...</td>\n",
       "      <td>...</td>\n",
       "      <td>...</td>\n",
       "      <td>...</td>\n",
       "      <td>...</td>\n",
       "      <td>...</td>\n",
       "      <td>...</td>\n",
       "      <td>...</td>\n",
       "      <td>...</td>\n",
       "      <td>...</td>\n",
       "      <td>...</td>\n",
       "      <td>...</td>\n",
       "      <td>...</td>\n",
       "      <td>...</td>\n",
       "      <td>...</td>\n",
       "      <td>...</td>\n",
       "      <td>...</td>\n",
       "      <td>...</td>\n",
       "      <td>...</td>\n",
       "      <td>...</td>\n",
       "      <td>...</td>\n",
       "    </tr>\n",
       "    <tr>\n",
       "      <th>6345106</th>\n",
       "      <td>999892</td>\n",
       "      <td>F</td>\n",
       "      <td>35.0</td>\n",
       "      <td>Años</td>\n",
       "      <td>Argentina</td>\n",
       "      <td>Córdoba</td>\n",
       "      <td>Santa María</td>\n",
       "      <td>Córdoba</td>\n",
       "      <td>2020-05-28</td>\n",
       "      <td>2020-06-01</td>\n",
       "      <td>...</td>\n",
       "      <td>NaN</td>\n",
       "      <td>NO</td>\n",
       "      <td>14</td>\n",
       "      <td>Privado</td>\n",
       "      <td>Caso Descartado</td>\n",
       "      <td>Descartado</td>\n",
       "      <td>14</td>\n",
       "      <td>2020-05-28</td>\n",
       "      <td>147</td>\n",
       "      <td>2021-02-15</td>\n",
       "    </tr>\n",
       "    <tr>\n",
       "      <th>6345143</th>\n",
       "      <td>999939</td>\n",
       "      <td>M</td>\n",
       "      <td>41.0</td>\n",
       "      <td>Años</td>\n",
       "      <td>SIN ESPECIFICAR</td>\n",
       "      <td>Córdoba</td>\n",
       "      <td>Río Cuarto</td>\n",
       "      <td>Buenos Aires</td>\n",
       "      <td>NaN</td>\n",
       "      <td>2020-06-01</td>\n",
       "      <td>...</td>\n",
       "      <td>NaN</td>\n",
       "      <td>NO</td>\n",
       "      <td>6</td>\n",
       "      <td>Privado</td>\n",
       "      <td>Caso Descartado</td>\n",
       "      <td>Descartado</td>\n",
       "      <td>14</td>\n",
       "      <td>2020-06-01</td>\n",
       "      <td>98</td>\n",
       "      <td>2021-02-15</td>\n",
       "    </tr>\n",
       "    <tr>\n",
       "      <th>6345150</th>\n",
       "      <td>999946</td>\n",
       "      <td>M</td>\n",
       "      <td>45.0</td>\n",
       "      <td>Años</td>\n",
       "      <td>Argentina</td>\n",
       "      <td>Córdoba</td>\n",
       "      <td>San Justo</td>\n",
       "      <td>Córdoba</td>\n",
       "      <td>NaN</td>\n",
       "      <td>2020-06-01</td>\n",
       "      <td>...</td>\n",
       "      <td>NaN</td>\n",
       "      <td>NO</td>\n",
       "      <td>14</td>\n",
       "      <td>Público</td>\n",
       "      <td>Caso Descartado</td>\n",
       "      <td>Descartado</td>\n",
       "      <td>14</td>\n",
       "      <td>2020-06-01</td>\n",
       "      <td>140</td>\n",
       "      <td>2021-02-15</td>\n",
       "    </tr>\n",
       "    <tr>\n",
       "      <th>6345154</th>\n",
       "      <td>999950</td>\n",
       "      <td>F</td>\n",
       "      <td>32.0</td>\n",
       "      <td>Años</td>\n",
       "      <td>Argentina</td>\n",
       "      <td>Córdoba</td>\n",
       "      <td>Río Cuarto</td>\n",
       "      <td>Buenos Aires</td>\n",
       "      <td>NaN</td>\n",
       "      <td>2020-06-01</td>\n",
       "      <td>...</td>\n",
       "      <td>NaN</td>\n",
       "      <td>NO</td>\n",
       "      <td>6</td>\n",
       "      <td>Privado</td>\n",
       "      <td>Caso Descartado</td>\n",
       "      <td>Descartado</td>\n",
       "      <td>14</td>\n",
       "      <td>2020-06-01</td>\n",
       "      <td>98</td>\n",
       "      <td>2021-02-15</td>\n",
       "    </tr>\n",
       "    <tr>\n",
       "      <th>6345167</th>\n",
       "      <td>999965</td>\n",
       "      <td>F</td>\n",
       "      <td>3.0</td>\n",
       "      <td>Años</td>\n",
       "      <td>Argentina</td>\n",
       "      <td>Córdoba</td>\n",
       "      <td>Río Cuarto</td>\n",
       "      <td>Buenos Aires</td>\n",
       "      <td>NaN</td>\n",
       "      <td>2020-06-01</td>\n",
       "      <td>...</td>\n",
       "      <td>NaN</td>\n",
       "      <td>NO</td>\n",
       "      <td>6</td>\n",
       "      <td>Privado</td>\n",
       "      <td>Caso Descartado</td>\n",
       "      <td>Descartado</td>\n",
       "      <td>14</td>\n",
       "      <td>2020-06-01</td>\n",
       "      <td>98</td>\n",
       "      <td>2021-02-15</td>\n",
       "    </tr>\n",
       "  </tbody>\n",
       "</table>\n",
       "<p>706309 rows × 25 columns</p>\n",
       "</div>"
      ],
      "text/plain": [
       "         id_evento_caso sexo  edad edad_años_meses residencia_pais_nombre  \\\n",
       "2               1000003    F  41.0            Años              Argentina   \n",
       "31              1000040    F  52.0            Años              Argentina   \n",
       "43              1000057   NR   NaN            Años              Argentina   \n",
       "54              1000075    F  51.0            Años              Argentina   \n",
       "165             1000240    F   1.0            Años              Argentina   \n",
       "...                 ...  ...   ...             ...                    ...   \n",
       "6345106          999892    F  35.0            Años              Argentina   \n",
       "6345143          999939    M  41.0            Años        SIN ESPECIFICAR   \n",
       "6345150          999946    M  45.0            Años              Argentina   \n",
       "6345154          999950    F  32.0            Años              Argentina   \n",
       "6345167          999965    F   3.0            Años              Argentina   \n",
       "\n",
       "        residencia_provincia_nombre residencia_departamento_nombre  \\\n",
       "2                           Córdoba                        Capital   \n",
       "31                          Córdoba                        Capital   \n",
       "43                          Córdoba                      San Justo   \n",
       "54                          Córdoba                        Capital   \n",
       "165                         Córdoba                        Capital   \n",
       "...                             ...                            ...   \n",
       "6345106                     Córdoba                    Santa María   \n",
       "6345143                     Córdoba                     Río Cuarto   \n",
       "6345150                     Córdoba                      San Justo   \n",
       "6345154                     Córdoba                     Río Cuarto   \n",
       "6345167                     Córdoba                     Río Cuarto   \n",
       "\n",
       "        carga_provincia_nombre fecha_inicio_sintomas fecha_apertura  ...  \\\n",
       "2                      Córdoba            2020-05-24     2020-06-01  ...   \n",
       "31                     Córdoba            2020-05-21     2020-06-01  ...   \n",
       "43                     Córdoba                   NaN     2020-06-01  ...   \n",
       "54                     Córdoba            2020-05-27     2020-06-01  ...   \n",
       "165                    Córdoba            2020-05-29     2020-06-01  ...   \n",
       "...                        ...                   ...            ...  ...   \n",
       "6345106                Córdoba            2020-05-28     2020-06-01  ...   \n",
       "6345143           Buenos Aires                   NaN     2020-06-01  ...   \n",
       "6345150                Córdoba                   NaN     2020-06-01  ...   \n",
       "6345154           Buenos Aires                   NaN     2020-06-01  ...   \n",
       "6345167           Buenos Aires                   NaN     2020-06-01  ...   \n",
       "\n",
       "         fecha_fallecimiento asistencia_respiratoria_mecanica  \\\n",
       "2                        NaN                               NO   \n",
       "31                       NaN                               NO   \n",
       "43                       NaN                               NO   \n",
       "54                       NaN                               NO   \n",
       "165                      NaN                               NO   \n",
       "...                      ...                              ...   \n",
       "6345106                  NaN                               NO   \n",
       "6345143                  NaN                               NO   \n",
       "6345150                  NaN                               NO   \n",
       "6345154                  NaN                               NO   \n",
       "6345167                  NaN                               NO   \n",
       "\n",
       "        carga_provincia_id origen_financiamiento    clasificacion  \\\n",
       "2                       14               Privado  Caso Descartado   \n",
       "31                      14               Privado  Caso Descartado   \n",
       "43                      14               Público  Caso Descartado   \n",
       "54                      14               Privado  Caso Descartado   \n",
       "165                     14               Público  Caso Descartado   \n",
       "...                    ...                   ...              ...   \n",
       "6345106                 14               Privado  Caso Descartado   \n",
       "6345143                  6               Privado  Caso Descartado   \n",
       "6345150                 14               Público  Caso Descartado   \n",
       "6345154                  6               Privado  Caso Descartado   \n",
       "6345167                  6               Privado  Caso Descartado   \n",
       "\n",
       "        clasificacion_resumen residencia_provincia_id  fecha_diagnostico  \\\n",
       "2                  Descartado                      14         2020-06-01   \n",
       "31                 Descartado                      14         2020-05-28   \n",
       "43                 Descartado                      14         2020-06-01   \n",
       "54                 Descartado                      14         2020-05-29   \n",
       "165                Descartado                      14         2020-06-01   \n",
       "...                       ...                     ...                ...   \n",
       "6345106            Descartado                      14         2020-05-28   \n",
       "6345143            Descartado                      14         2020-06-01   \n",
       "6345150            Descartado                      14         2020-06-01   \n",
       "6345154            Descartado                      14         2020-06-01   \n",
       "6345167            Descartado                      14         2020-06-01   \n",
       "\n",
       "        residencia_departamento_id ultima_actualizacion  \n",
       "2                               14           2021-02-15  \n",
       "31                              14           2021-02-15  \n",
       "43                             140           2021-02-15  \n",
       "54                              14           2021-02-15  \n",
       "165                             14           2021-02-15  \n",
       "...                            ...                  ...  \n",
       "6345106                        147           2021-02-15  \n",
       "6345143                         98           2021-02-15  \n",
       "6345150                        140           2021-02-15  \n",
       "6345154                         98           2021-02-15  \n",
       "6345167                         98           2021-02-15  \n",
       "\n",
       "[706309 rows x 25 columns]"
      ]
     },
     "execution_count": 9,
     "metadata": {},
     "output_type": "execute_result"
    }
   ],
   "source": [
    "df.loc[df['residencia_provincia_nombre'] == 'Córdoba']"
   ]
  },
  {
   "cell_type": "code",
   "execution_count": 10,
   "metadata": {},
   "outputs": [
    {
     "data": {
      "text/plain": [
       "array(['Córdoba'], dtype=object)"
      ]
     },
     "execution_count": 10,
     "metadata": {},
     "output_type": "execute_result"
    }
   ],
   "source": [
    "df['residencia_provincia_nombre'].unique()"
   ]
  },
  {
   "cell_type": "code",
   "execution_count": 11,
   "metadata": {},
   "outputs": [
    {
     "data": {
      "text/plain": [
       "(706309, 25)"
      ]
     },
     "execution_count": 11,
     "metadata": {},
     "output_type": "execute_result"
    }
   ],
   "source": [
    "df.shape"
   ]
  },
  {
   "cell_type": "code",
   "execution_count": 12,
   "metadata": {},
   "outputs": [
    {
     "data": {
      "text/plain": [
       "array(['id_evento_caso', 'sexo', 'edad', 'edad_años_meses',\n",
       "       'residencia_pais_nombre', 'residencia_provincia_nombre',\n",
       "       'residencia_departamento_nombre', 'carga_provincia_nombre',\n",
       "       'fecha_inicio_sintomas', 'fecha_apertura', 'sepi_apertura',\n",
       "       'fecha_internacion', 'cuidado_intensivo', 'fecha_cui_intensivo',\n",
       "       'fallecido', 'fecha_fallecimiento',\n",
       "       'asistencia_respiratoria_mecanica', 'carga_provincia_id',\n",
       "       'origen_financiamiento', 'clasificacion', 'clasificacion_resumen',\n",
       "       'residencia_provincia_id', 'fecha_diagnostico',\n",
       "       'residencia_departamento_id', 'ultima_actualizacion'], dtype=object)"
      ]
     },
     "execution_count": 12,
     "metadata": {},
     "output_type": "execute_result"
    }
   ],
   "source": [
    "df.columns.values"
   ]
  },
  {
   "cell_type": "markdown",
   "metadata": {},
   "source": [
    "# Limpieza de datos"
   ]
  },
  {
   "cell_type": "markdown",
   "metadata": {},
   "source": [
    "* Eliminamos columnas innecesarias\n",
    "* Reemplazamos los valores de tipo str por enteros"
   ]
  },
  {
   "cell_type": "code",
   "execution_count": 13,
   "metadata": {},
   "outputs": [],
   "source": [
    "df.drop(['residencia_pais_nombre','ultima_actualizacion','carga_provincia_id',\n",
    "         'id_evento_caso','fecha_apertura','residencia_departamento_id',\n",
    "         'carga_provincia_nombre','residencia_provincia_id'], axis=1, inplace=True)"
   ]
  },
  {
   "cell_type": "code",
   "execution_count": 14,
   "metadata": {},
   "outputs": [
    {
     "data": {
      "text/plain": [
       "array(['Descartado', 'Sospechoso', 'Confirmado', 'Sin Clasificar'],\n",
       "      dtype=object)"
      ]
     },
     "execution_count": 14,
     "metadata": {},
     "output_type": "execute_result"
    }
   ],
   "source": [
    "df['clasificacion_resumen'].unique()"
   ]
  },
  {
   "cell_type": "code",
   "execution_count": 15,
   "metadata": {},
   "outputs": [],
   "source": [
    "#Reemplazamos los valores de la  columna sexo (F o M) a variables enteras\n",
    "df['sexo'].replace(['F','M','NR'], [0,1,2], inplace=True)"
   ]
  },
  {
   "cell_type": "code",
   "execution_count": 17,
   "metadata": {},
   "outputs": [],
   "source": [
    "#Reemplazamos los valores de la  columna cuidado_instensivo (SI o NO) a variables enteras\n",
    "df['cuidado_intensivo'].replace(['NO','SI'], [0,1], inplace=True)"
   ]
  },
  {
   "cell_type": "code",
   "execution_count": 18,
   "metadata": {},
   "outputs": [],
   "source": [
    "#Reemplazamos los valores de la  columna asistencia_respiratoria_mecanica (SI o NO) a variables enteras\n",
    "df['asistencia_respiratoria_mecanica'].replace(['NO','SI'], [0,1], inplace=True)"
   ]
  },
  {
   "cell_type": "code",
   "execution_count": 19,
   "metadata": {},
   "outputs": [],
   "source": [
    "#Reemplazamos los valores de la  columna fallecido (Si o No) a variables enteras\n",
    "df['fallecido'].replace(['SI','NO'], [1,0], inplace=True)"
   ]
  },
  {
   "cell_type": "code",
   "execution_count": 20,
   "metadata": {},
   "outputs": [],
   "source": [
    "#Reemplazamos los valores de la  columna clasificacion_resumen (casos confirmados, descartados, Sospechoso, Sin Clasificar) a variables enteras\n",
    "df['clasificacion_resumen'].replace(['Descartado', 'Sospechoso', 'Sin Clasificar', 'Confirmado'],\n",
    "                                    [1,2,3,4], inplace=True)"
   ]
  },
  {
   "cell_type": "code",
   "execution_count": 36,
   "metadata": {},
   "outputs": [
    {
     "data": {
      "text/plain": [
       "608584"
      ]
     },
     "execution_count": 36,
     "metadata": {},
     "output_type": "execute_result"
    }
   ],
   "source": [
    "#Nos quedamos con las filas que tienen covid\n",
    "casos_conf = df[df['clasificacion_resumen'] == 4]\n",
    "casos_conf['clasificacion_resumen'].sum()"
   ]
  },
  {
   "cell_type": "code",
   "execution_count": 35,
   "metadata": {},
   "outputs": [
    {
     "data": {
      "text/plain": [
       "3203"
      ]
     },
     "execution_count": 35,
     "metadata": {},
     "output_type": "execute_result"
    }
   ],
   "source": [
    "#Nos quedamos con las filas de pacientes fallecidos\n",
    "casos_fall = df[df['fallecido'] == 1]\n",
    "casos_fall['fallecido'].sum()"
   ]
  },
  {
   "cell_type": "markdown",
   "metadata": {},
   "source": [
    "## Conclusiones y graficos"
   ]
  },
  {
   "cell_type": "code",
   "execution_count": 24,
   "metadata": {},
   "outputs": [
    {
     "name": "stdout",
     "output_type": "stream",
     "text": [
      "Casos descartados: 504913\n",
      "Casos sospechosos: 49239\n",
      "Casos sin calificar: 11\n",
      "Casos confirmados: 152146\n"
     ]
    }
   ],
   "source": [
    "print (f\"Casos descartados: {(df['clasificacion_resumen'] == 1).sum()}\")\n",
    "print (f\"Casos sospechosos: {(df['clasificacion_resumen'] == 2).sum()}\")\n",
    "print (f\"Casos sin calificar: {(df['clasificacion_resumen'] == 3).sum()}\")\n",
    "print (f\"Casos confirmados: {(df['clasificacion_resumen'] == 4).sum()}\")"
   ]
  },
  {
   "cell_type": "code",
   "execution_count": 99,
   "metadata": {
    "scrolled": true
   },
   "outputs": [
    {
     "data": {
      "image/png": "[encoded data removed]",
      "text/plain": [
       "<Figure size 1008x432 with 1 Axes>"
      ]
     },
     "metadata": {
      "needs_background": "light"
     },
     "output_type": "display_data"
    }
   ],
   "source": [
    "ax = df['clasificacion_resumen'].value_counts().plot(kind='bar', figsize=(14,6))\n",
    "ax.set_ylabel('Casos')\n",
    "plt.show()"
   ]
  },
  {
   "cell_type": "code",
   "execution_count": 26,
   "metadata": {},
   "outputs": [
    {
     "name": "stdout",
     "output_type": "stream",
     "text": [
      "Fallecidos 3203\n"
     ]
    }
   ],
   "source": [
    "print (f\"Fallecidos {(df['fallecido']==1).sum()}\")"
   ]
  },
  {
   "cell_type": "code",
   "execution_count": 96,
   "metadata": {},
   "outputs": [
    {
     "data": {
      "image/png": "[encoded data removed]",
      "text/plain": [
       "<Figure size 576x360 with 1 Axes>"
      ]
     },
     "metadata": {},
     "output_type": "display_data"
    }
   ],
   "source": [
    "si = casos_conf.loc[casos_conf['fallecido'] == 1].count()[0]\n",
    "no = casos_conf.loc[casos_conf['fallecido'] == 0].count()[0]\n",
    "\n",
    "plt.figure(figsize=(8,5))\n",
    "\n",
    "labels = ['Si', 'No']\n",
    "colors = ['#abcdef', '#aabbcc']\n",
    "\n",
    "plt.pie([si, no], labels = labels, colors=colors, autopct='%.2f %%')\n",
    "\n",
    "plt.title('Pacientes confirmados fallecidos')\n",
    "\n",
    "plt.show()"
   ]
  },
  {
   "cell_type": "code",
   "execution_count": 27,
   "metadata": {},
   "outputs": [
    {
     "name": "stdout",
     "output_type": "stream",
     "text": [
      "Mujeres confirmadas: 77593\n",
      "Hombres confirmados: 73861\n"
     ]
    }
   ],
   "source": [
    "print (f\"Mujeres confirmadas: {(casos_conf['sexo'] == 0).sum()}\")\n",
    "print (f\"Hombres confirmados: {(casos_conf['sexo'] == 1).sum()}\")"
   ]
  },
  {
   "cell_type": "code",
   "execution_count": 28,
   "metadata": {},
   "outputs": [
    {
     "data": {
      "image/png": "[encoded data removed]",
      "text/plain": [
       "<Figure size 432x432 with 1 Axes>"
      ]
     },
     "metadata": {},
     "output_type": "display_data"
    }
   ],
   "source": [
    "casos_conf['sexo'].value_counts().plot(kind='pie', figsize=(6,6), labels=['Mujeres','Hombres', 'Otro'])\n",
    "plt.title('Casos confirmados por sexo', bbox={'facecolor':'0.7', 'pad':5})\n",
    "plt.show()"
   ]
  },
  {
   "cell_type": "code",
   "execution_count": 29,
   "metadata": {},
   "outputs": [
    {
     "name": "stdout",
     "output_type": "stream",
     "text": [
      "Personas menores a 10 (inclusive) contagidas: 3892\n",
      "Personas mayores a 10 y menores de 20 (inclusive) contagidas: 13524\n",
      "Personas mayores a 20 y menores de 30 (inclusive) contagidas: 32965\n",
      "Personas mayores a 30 y menores de 40 (inclusive) contagidas: 31686\n",
      "Personas mayores a 40 y menores de 50 (inclusive) contagidas: 26537\n",
      "Personas mayores a 50 y menores de 60 (inclusive) contagidas: 19241\n",
      "Personas mayores a 60 y menores de 70 (inclusive) contagidas: 12650\n",
      "Personas mayores a 70 y menores de 80 (inclusive) contagidas: 7346\n",
      "Personas mayores a 80 y menores de 90 (inclusive) contagidas: 3521\n",
      "Personas mayores a 90 contagiados: 769\n"
     ]
    }
   ],
   "source": [
    "#El 61% de los contagiados esta entre los 20 y 50\n",
    "print (f\"Personas menores a 10 (inclusive) contagidas: {(casos_conf['edad'] <= 10).sum()}\")\n",
    "print (f\"Personas mayores a 10 y menores de 20 (inclusive) contagidas: {((casos_conf['edad'] > 10) & (casos_conf['edad'] <= 20)).sum()}\")\n",
    "print (f\"Personas mayores a 20 y menores de 30 (inclusive) contagidas: {((casos_conf['edad'] > 20) & (casos_conf['edad'] <= 30)).sum()}\")\n",
    "print (f\"Personas mayores a 30 y menores de 40 (inclusive) contagidas: {((casos_conf['edad'] > 30) & (casos_conf['edad'] <= 40)).sum()}\")\n",
    "print (f\"Personas mayores a 40 y menores de 50 (inclusive) contagidas: {((casos_conf['edad'] > 40) & (casos_conf['edad'] <= 50)).sum()}\")\n",
    "print (f\"Personas mayores a 50 y menores de 60 (inclusive) contagidas: {((casos_conf['edad'] > 50) & (casos_conf['edad'] <= 60)).sum()}\")\n",
    "print (f\"Personas mayores a 60 y menores de 70 (inclusive) contagidas: {((casos_conf['edad'] > 60) & (casos_conf['edad'] <= 70)).sum()}\")\n",
    "print (f\"Personas mayores a 70 y menores de 80 (inclusive) contagidas: {((casos_conf['edad'] > 70) & (casos_conf['edad'] <= 80)).sum()}\")\n",
    "print (f\"Personas mayores a 80 y menores de 90 (inclusive) contagidas: {((casos_conf['edad'] > 80) & (casos_conf['edad'] <= 90)).sum()}\")\n",
    "print (f\"Personas mayores a 90 contagiados: {((casos_conf['edad'] > 90)).sum()}\")"
   ]
  },
  {
   "cell_type": "code",
   "execution_count": 30,
   "metadata": {},
   "outputs": [
    {
     "data": {
      "image/png": "[encoded data removed]",
      "text/plain": [
       "<Figure size 1008x432 with 1 Axes>"
      ]
     },
     "metadata": {
      "needs_background": "light"
     },
     "output_type": "display_data"
    }
   ],
   "source": [
    "casos_conf['edad'].plot(kind='box', vert=False, figsize=(14,6));"
   ]
  },
  {
   "cell_type": "code",
   "execution_count": 31,
   "metadata": {},
   "outputs": [
    {
     "name": "stdout",
     "output_type": "stream",
     "text": [
      "Cantidad de casos en Capital: 67856\n",
      "Cantidad de casos en Río Cuarto: 14419\n",
      "Cantidad de casos en General San Martín: 7033\n",
      "Cantidad de casos en Unión: 3902\n",
      "Cantidad de casos en Marcos Juárez: 6257\n",
      "Cantidad de casos en Río Primero: 1939\n",
      "Cantidad de casos en Calamuchita: 1687\n",
      "Cantidad de casos en Punilla: 5072\n",
      "Cantidad de casos en Colón: 8790\n",
      "Cantidad de casos en San Justo: 10810\n",
      "Cantidad de casos en Santa María: 3991\n",
      "Cantidad de casos en San Javier: 1186\n",
      "Cantidad de casos en San Alberto: 638\n",
      "Cantidad de casos en Tercero Arriba: 6192\n",
      "Cantidad de casos en Río Segundo: 4426\n",
      "Cantidad de casos en General Roca: 1134\n",
      "Cantidad de casos en Juárez Celman: 2364\n",
      "Cantidad de casos en Cruz del Eje: 820\n",
      "Cantidad de casos en Totoral: 479\n",
      "Cantidad de casos en Presidente Roque Sáenz Peña: 1331\n",
      "Cantidad de casos en SIN ESPECIFICAR: 620\n",
      "Cantidad de casos en Río Seco: 131\n",
      "Cantidad de casos en Minas: 70\n",
      "Cantidad de casos en Tulumba: 162\n",
      "Cantidad de casos en Ischilín: 720\n",
      "Cantidad de casos en Sobremonte: 61\n",
      "Cantidad de casos en Pocho: 56\n"
     ]
    }
   ],
   "source": [
    "#Casos por departamento\n",
    "departamento = casos_conf['residencia_departamento_nombre'].unique()\n",
    "for i in departamento:\n",
    "    print (f\"Cantidad de casos en {i}: {(casos_conf['residencia_departamento_nombre'] == i).sum()}\")"
   ]
  },
  {
   "cell_type": "code",
   "execution_count": 43,
   "metadata": {},
   "outputs": [
    {
     "data": {
      "image/png": "[encoded data removed]",
      "text/plain": [
       "<Figure size 1008x432 with 1 Axes>"
      ]
     },
     "metadata": {
      "needs_background": "light"
     },
     "output_type": "display_data"
    }
   ],
   "source": [
    "ax = casos_conf['residencia_departamento_nombre'].value_counts().plot(kind='bar', figsize=(14,6))\n",
    "ax.set_ylabel('Cantidad de casos')\n",
    "plt.show()"
   ]
  },
  {
   "cell_type": "code",
   "execution_count": 53,
   "metadata": {},
   "outputs": [
    {
     "name": "stdout",
     "output_type": "stream",
     "text": [
      "Mujeres fallecidas: 1258\n",
      "Hombres fallecidos: 1867\n",
      "Porcentaje hombres fallecidos: 58.29%\n",
      "Porcentaje mujeres fallecidos: 39.28%\n"
     ]
    }
   ],
   "source": [
    "cant_fall = casos_fall[\"fallecido\"].sum()\n",
    "cant_fall_homb = (casos_fall['sexo'] == 1).sum()\n",
    "cant_fall_muj = (casos_fall['sexo'] == 0).sum()\n",
    "\n",
    "print (f\"Mujeres fallecidas: {cant_fall_muj}\")\n",
    "print (f\"Hombres fallecidos: {cant_fall_homb}\")\n",
    "\n",
    "porc_homb_fall = (cant_fall_homb / cant_fall)*100\n",
    "porc_muj_fall = (cant_fall_muj / cant_fall)*100\n",
    "print (f\"Porcentaje hombres fallecidos: {round(porc_homb_fall,2)}%\")\n",
    "print (f\"Porcentaje mujeres fallecidos: {round(porc_muj_fall,2)}%\")"
   ]
  },
  {
   "cell_type": "code",
   "execution_count": 45,
   "metadata": {},
   "outputs": [
    {
     "data": {
      "text/plain": [
       "73.28"
      ]
     },
     "execution_count": 45,
     "metadata": {},
     "output_type": "execute_result"
    }
   ],
   "source": [
    "#Promedio de edad de fallecidos 73.4\n",
    "prom_edad_fallecidos = casos_fall['edad'].mean()\n",
    "round(prom_edad_fallecidos, 2)"
   ]
  },
  {
   "cell_type": "code",
   "execution_count": 68,
   "metadata": {},
   "outputs": [
    {
     "data": {
      "image/png": "[encoded data removed]",
      "text/plain": [
       "<Figure size 1008x432 with 1 Axes>"
      ]
     },
     "metadata": {
      "needs_background": "light"
     },
     "output_type": "display_data"
    }
   ],
   "source": [
    "ax = casos_fall['edad'].plot(kind='density', figsize=(14,6)) # kde\n",
    "ax.axvline(casos_fall['edad'].mean(), color='red')\n",
    "ax.axvline(casos_fall['edad'].median(), color='green')\n",
    "plt.xlabel('Edad');"
   ]
  },
  {
   "cell_type": "code",
   "execution_count": 47,
   "metadata": {},
   "outputs": [
    {
     "data": {
      "text/html": [
       "<div>\n",
       "<style scoped>\n",
       "    .dataframe tbody tr th:only-of-type {\n",
       "        vertical-align: middle;\n",
       "    }\n",
       "\n",
       "    .dataframe tbody tr th {\n",
       "        vertical-align: top;\n",
       "    }\n",
       "\n",
       "    .dataframe thead th {\n",
       "        text-align: right;\n",
       "    }\n",
       "</style>\n",
       "<table border=\"1\" class=\"dataframe\">\n",
       "  <thead>\n",
       "    <tr style=\"text-align: right;\">\n",
       "      <th></th>\n",
       "      <th>edad</th>\n",
       "    </tr>\n",
       "    <tr>\n",
       "      <th>asistencia_respiratoria_mecanica</th>\n",
       "      <th></th>\n",
       "    </tr>\n",
       "  </thead>\n",
       "  <tbody>\n",
       "    <tr>\n",
       "      <th>0</th>\n",
       "      <td>40.870619</td>\n",
       "    </tr>\n",
       "    <tr>\n",
       "      <th>1</th>\n",
       "      <td>66.545267</td>\n",
       "    </tr>\n",
       "  </tbody>\n",
       "</table>\n",
       "</div>"
      ],
      "text/plain": [
       "                                       edad\n",
       "asistencia_respiratoria_mecanica           \n",
       "0                                 40.870619\n",
       "1                                 66.545267"
      ]
     },
     "execution_count": 47,
     "metadata": {},
     "output_type": "execute_result"
    }
   ],
   "source": [
    "#El promedio de edad de personas que no necesitaron respiracion asistida fue de 41, y el promedio de personas\n",
    "#que si necesitaron respiracion asistida fue de 68\n",
    "casos_conf[[\"asistencia_respiratoria_mecanica\", \"edad\"]].groupby(\"asistencia_respiratoria_mecanica\").mean()"
   ]
  },
  {
   "cell_type": "code",
   "execution_count": 48,
   "metadata": {},
   "outputs": [
    {
     "name": "stdout",
     "output_type": "stream",
     "text": [
      "De los casos confirmados un 0.32% necesitó respiracion asistida\n"
     ]
    }
   ],
   "source": [
    "casos_conf_ar = (casos_conf[\"asistencia_respiratoria_mecanica\"] == 1).sum()\n",
    "casos_confirmados = (df['clasificacion_resumen'] == 4).sum()\n",
    "porcentaje_resp_asist = casos_conf_ar/casos_confirmados*100\n",
    "print (f\"De los casos confirmados un {round(porcentaje_resp_asist,2)}% necesitó respiracion asistida\")"
   ]
  },
  {
   "cell_type": "code",
   "execution_count": 98,
   "metadata": {},
   "outputs": [
    {
     "data": {
      "image/png": "[encoded data removed]",
      "text/plain": [
       "<Figure size 576x360 with 1 Axes>"
      ]
     },
     "metadata": {},
     "output_type": "display_data"
    }
   ],
   "source": [
    "si = casos_conf.loc[casos_conf['asistencia_respiratoria_mecanica'] == 1].count()[0]\n",
    "no = casos_conf.loc[casos_conf['asistencia_respiratoria_mecanica'] == 0].count()[0]\n",
    "\n",
    "plt.figure(figsize=(8,5))\n",
    "\n",
    "labels = ['Si', 'No']\n",
    "colors = ['#abcdef', '#aabbcc']\n",
    "\n",
    "plt.pie([si, no], labels = labels, colors=colors, autopct='%.2f %%')\n",
    "\n",
    "plt.title('Pacientes confirmados con asistencia respiratoria')\n",
    "\n",
    "plt.show()"
   ]
  },
  {
   "cell_type": "code",
   "execution_count": 49,
   "metadata": {},
   "outputs": [
    {
     "data": {
      "text/html": [
       "<div>\n",
       "<style scoped>\n",
       "    .dataframe tbody tr th:only-of-type {\n",
       "        vertical-align: middle;\n",
       "    }\n",
       "\n",
       "    .dataframe tbody tr th {\n",
       "        vertical-align: top;\n",
       "    }\n",
       "\n",
       "    .dataframe thead th {\n",
       "        text-align: right;\n",
       "    }\n",
       "</style>\n",
       "<table border=\"1\" class=\"dataframe\">\n",
       "  <thead>\n",
       "    <tr style=\"text-align: right;\">\n",
       "      <th></th>\n",
       "      <th>edad</th>\n",
       "    </tr>\n",
       "    <tr>\n",
       "      <th>cuidado_intensivo</th>\n",
       "      <th></th>\n",
       "    </tr>\n",
       "  </thead>\n",
       "  <tbody>\n",
       "    <tr>\n",
       "      <th>0</th>\n",
       "      <td>40.685743</td>\n",
       "    </tr>\n",
       "    <tr>\n",
       "      <th>1</th>\n",
       "      <td>68.591753</td>\n",
       "    </tr>\n",
       "  </tbody>\n",
       "</table>\n",
       "</div>"
      ],
      "text/plain": [
       "                        edad\n",
       "cuidado_intensivo           \n",
       "0                  40.685743\n",
       "1                  68.591753"
      ]
     },
     "execution_count": 49,
     "metadata": {},
     "output_type": "execute_result"
    }
   ],
   "source": [
    "#El promedio de edad de confirmados con cuidado intensivo  es de 70 y el promedio de de edad que no recibieron cuidado intensivo es de 40 \n",
    "casos_conf[[\"cuidado_intensivo\", \"edad\"]].groupby(\"cuidado_intensivo\").mean()"
   ]
  }
 ],
 "metadata": {
  "kernelspec": {
   "display_name": "Python 3",
   "language": "python",
   "name": "python3"
  },
  "language_info": {
   "codemirror_mode": {
    "name": "ipython",
    "version": 3
   },
   "file_extension": ".py",
   "mimetype": "text/x-python",
   "name": "python",
   "nbconvert_exporter": "python",
   "pygments_lexer": "ipython3",
   "version": "3.8.5"
  }
 },
 "nbformat": 4,
 "nbformat_minor": 4
}
